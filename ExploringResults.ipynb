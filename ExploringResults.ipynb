{
 "cells": [
  {
   "cell_type": "code",
   "execution_count": 1,
   "metadata": {},
   "outputs": [],
   "source": [
    "import pandas as pd"
   ]
  },
  {
   "cell_type": "code",
   "execution_count": 2,
   "metadata": {},
   "outputs": [],
   "source": [
    "df = pd.read_csv('reuters_ambiguity.csv')"
   ]
  },
  {
   "cell_type": "code",
   "execution_count": 4,
   "metadata": {},
   "outputs": [
    {
     "data": {
      "text/plain": [
       "Oxford            1384\n",
       "Neither            545\n",
       "Lack of Oxford     400\n",
       "Name: ambiguity, dtype: int64"
      ]
     },
     "execution_count": 4,
     "metadata": {},
     "output_type": "execute_result"
    }
   ],
   "source": [
    "df.ambiguity.value_counts()"
   ]
  },
  {
   "cell_type": "code",
   "execution_count": 12,
   "metadata": {},
   "outputs": [
    {
     "name": "stdout",
     "output_type": "stream",
     "text": [
      "The partners in the study are Neste Oy, Celanese Canada Inc, Hoechst Celanese Corporation and Trade Mountain Pipe Line Company Ltd, of Vancouver, B.C. The Edmonton site was suitable because of the raw materials availability, the proximity to pipeline transportation and the important capital and operating advantages gained by locating on an existing Celanese Canada site, the statement said.\n",
      "the raw materials availability~~~the proximity to pipeline transportation~~~the important capital and operating advantages gained by locating on an existing Celanese Canada site\n"
     ]
    },
    {
     "data": {
      "text/plain": [
       "ambiguity                                               Oxford\n",
       "fileid                                              test/14863\n",
       "nps          the raw materials availability~~~the proximity...\n",
       "numbers                                        ['S', 'S', 'P']\n",
       "sent         The partners in the study are Neste Oy, Celane...\n",
       "Name: 3, dtype: object"
      ]
     },
     "execution_count": 12,
     "metadata": {},
     "output_type": "execute_result"
    }
   ],
   "source": [
    "i = 3\n",
    "print(df.iloc[i].sent)\n",
    "print(df.iloc[i].nps)\n",
    "df.iloc[i]"
   ]
  },
  {
   "cell_type": "code",
   "execution_count": null,
   "metadata": {},
   "outputs": [],
   "source": []
  }
 ],
 "metadata": {
  "anaconda-cloud": {},
  "kernelspec": {
   "display_name": "Python [py36]",
   "language": "python",
   "name": "Python [py36]"
  },
  "language_info": {
   "codemirror_mode": {
    "name": "ipython",
    "version": 3
   },
   "file_extension": ".py",
   "mimetype": "text/x-python",
   "name": "python",
   "nbconvert_exporter": "python",
   "pygments_lexer": "ipython3",
   "version": "3.6.1"
  }
 },
 "nbformat": 4,
 "nbformat_minor": 2
}
